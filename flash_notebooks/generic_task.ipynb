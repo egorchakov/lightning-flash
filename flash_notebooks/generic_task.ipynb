{
 "cells": [
  {
   "cell_type": "markdown",
   "id": "determined-vinyl",
   "metadata": {},
   "source": [
    "<a href=\"https://colab.research.google.com/github/PyTorchLightning/lightning-flash/blob/master/flash_notebooks/generic_task.ipynb\" target=\"_parent\">\n",
    "    <img src=\"https://colab.research.google.com/assets/colab-badge.svg\" alt=\"Open In Colab\"/>\n",
    "</a>"
   ]
  },
  {
   "cell_type": "markdown",
   "id": "fabulous-alfred",
   "metadata": {},
   "source": [
    "In this notebook, we'll go over the basics of lightning Flash by creating a ClassificationTask with a custom Convolutional Model and train it on [MNIST Dataset](http://yann.lecun.com/exdb/mnist/)\n",
    "\n",
    "---\n",
    "  - Give us a ⭐ [on Github](https://www.github.com/PytorchLightning/pytorch-lightning/)\n",
    "  - Check out [Flash documentation](https://lightning-flash.readthedocs.io/en/latest/)\n",
    "  - Check out [Lightning documentation](https://pytorch-lightning.readthedocs.io/en/latest/)\n",
    "  - Join us [on Slack](https://join.slack.com/t/pytorch-lightning/shared_invite/zt-f6bl2l0l-JYMK3tbAgAmGRrlNr00f1A)"
   ]
  },
  {
   "cell_type": "markdown",
   "id": "pleased-produce",
   "metadata": {},
   "source": [
    "# Training"
   ]
  },
  {
   "cell_type": "code",
   "execution_count": null,
   "id": "straight-vision",
   "metadata": {},
   "outputs": [],
   "source": [
    "%%capture\n",
    "! pip install lightning-flash"
   ]
  },
  {
   "cell_type": "code",
   "execution_count": null,
   "id": "foreign-design",
   "metadata": {},
   "outputs": [],
   "source": [
    "import pytorch_lightning as pl\n",
    "from torch import nn, optim\n",
    "from torch.utils.data import DataLoader, random_split\n",
    "from torchvision import datasets, transforms\n",
    "\n",
    "from flash.core.classification import ClassificationTask"
   ]
  },
  {
   "cell_type": "code",
   "execution_count": null,
   "id": "mathematical-barbados",
   "metadata": {},
   "outputs": [],
   "source": [
    "from six.moves import urllib\n",
    "\n",
    "# TorchVision hotfix https://github.com/pytorch/vision/issues/1938\n",
    "opener = urllib.request.build_opener()\n",
    "opener.addheaders = [('User-agent', 'Mozilla/5.0')]\n",
    "urllib.request.install_opener(opener)\n"
   ]
  },
  {
   "cell_type": "markdown",
   "id": "alone-scenario",
   "metadata": {},
   "source": [
    "### 1. Load a basic backbone"
   ]
  },
  {
   "cell_type": "code",
   "execution_count": null,
   "id": "selective-request",
   "metadata": {},
   "outputs": [],
   "source": [
    "model = nn.Sequential(\n",
    "    nn.Flatten(),\n",
    "    nn.Linear(28 * 28, 128),\n",
    "    nn.ReLU(),\n",
    "    nn.Linear(128, 10),\n",
    ")"
   ]
  },
  {
   "cell_type": "markdown",
   "id": "innocent-african",
   "metadata": {},
   "source": [
    "### 2. Load a dataset"
   ]
  },
  {
   "cell_type": "code",
   "execution_count": null,
   "id": "stunning-anime",
   "metadata": {},
   "outputs": [],
   "source": [
    "dataset = datasets.MNIST('./data', download=True, transform=transforms.ToTensor())"
   ]
  },
  {
   "cell_type": "markdown",
   "id": "formal-teach",
   "metadata": {},
   "source": [
    "### 3. Split the data randomly"
   ]
  },
  {
   "cell_type": "code",
   "execution_count": null,
   "id": "hispanic-independence",
   "metadata": {},
   "outputs": [],
   "source": [
    "train, val, test, predict = random_split(dataset, [50000, 5000, 4975, 25])"
   ]
  },
  {
   "cell_type": "markdown",
   "id": "broken-flour",
   "metadata": {},
   "source": [
    "### 4. Create the model"
   ]
  },
  {
   "cell_type": "code",
   "execution_count": null,
   "id": "literary-destruction",
   "metadata": {},
   "outputs": [],
   "source": [
    "classifier = ClassificationTask(model, loss_fn=nn.functional.cross_entropy, optimizer=optim.Adam, learning_rate=10e-3)"
   ]
  },
  {
   "cell_type": "markdown",
   "id": "ancient-seller",
   "metadata": {},
   "source": [
    "### 5. Create the trainer"
   ]
  },
  {
   "cell_type": "code",
   "execution_count": null,
   "id": "public-berlin",
   "metadata": {},
   "outputs": [],
   "source": [
    "trainer = pl.Trainer(\n",
    "    max_epochs=10,\n",
    "    limit_train_batches=128,\n",
    "    limit_val_batches=128,\n",
    ")"
   ]
  },
  {
   "cell_type": "markdown",
   "id": "advisory-soccer",
   "metadata": {},
   "source": [
    "### 6. Train the model"
   ]
  },
  {
   "cell_type": "code",
   "execution_count": null,
   "id": "neural-genre",
   "metadata": {},
   "outputs": [],
   "source": [
    "trainer.fit(classifier, DataLoader(train), DataLoader(val))"
   ]
  },
  {
   "cell_type": "markdown",
   "id": "greater-geneva",
   "metadata": {},
   "source": [
    "### 7. Test the model"
   ]
  },
  {
   "cell_type": "code",
   "execution_count": null,
   "id": "ideal-johnson",
   "metadata": {},
   "outputs": [],
   "source": [
    "results = trainer.test(classifier, test_dataloaders=DataLoader(test))"
   ]
  },
  {
   "cell_type": "markdown",
   "id": "traditional-faculty",
   "metadata": {},
   "source": [
    "<code style=\"color:#792ee5;\">\n",
    "    <h1> <strong> Congratulations - Time to Join the Community! </strong>  </h1>\n",
    "</code>\n",
    "\n",
    "Congratulations on completing this notebook tutorial! If you enjoyed it and would like to join the Lightning movement, you can do so in the following ways!\n",
    "\n",
    "### Help us build Flash by adding support for new data-types and new tasks.\n",
    "Flash aims at becoming the first task hub, so anyone can get started to great amazing application using deep learning. \n",
    "If you are interested, please open a PR with your contributions !!! \n",
    "\n",
    "\n",
    "### Star [Lightning](https://github.com/PyTorchLightning/pytorch-lightning) on GitHub\n",
    "The easiest way to help our community is just by starring the GitHub repos! This helps raise awareness of the cool tools we're building.\n",
    "\n",
    "* Please, star [Lightning](https://github.com/PyTorchLightning/pytorch-lightning)\n",
    "\n",
    "### Join our [Slack](https://join.slack.com/t/pytorch-lightning/shared_invite/zt-f6bl2l0l-JYMK3tbAgAmGRrlNr00f1A)!\n",
    "The best way to keep up to date on the latest advancements is to join our community! Make sure to introduce yourself and share your interests in `#general` channel\n",
    "\n",
    "### Interested by SOTA AI models ! Check out [Bolt](https://github.com/PyTorchLightning/lightning-bolts)\n",
    "Bolts has a collection of state-of-the-art models, all implemented in [Lightning](https://github.com/PyTorchLightning/pytorch-lightning) and can be easily integrated within your own projects.\n",
    "\n",
    "* Please, star [Bolt](https://github.com/PyTorchLightning/lightning-bolts)\n",
    "\n",
    "### Contributions !\n",
    "The best way to contribute to our community is to become a code contributor! At any time you can go to [Lightning](https://github.com/PyTorchLightning/pytorch-lightning) or [Bolt](https://github.com/PyTorchLightning/lightning-bolts) GitHub Issues page and filter for \"good first issue\". \n",
    "\n",
    "* [Lightning good first issue](https://github.com/PyTorchLightning/pytorch-lightning/issues?q=is%3Aopen+is%3Aissue+label%3A%22good+first+issue%22)\n",
    "* [Bolt good first issue](https://github.com/PyTorchLightning/lightning-bolts/issues?q=is%3Aopen+is%3Aissue+label%3A%22good+first+issue%22)\n",
    "* You can also contribute your own notebooks with useful examples !\n",
    "\n",
    "### Great thanks from the entire Pytorch Lightning Team for your interest !\n",
    "\n",
    "<img src=\"https://raw.githubusercontent.com/PyTorchLightning/lightning-flash/18c591747e40a0ad862d4f82943d209b8cc25358/docs/source/_static/images/logo.svg\" width=\"800\" height=\"200\" />"
   ]
  }
 ],
 "metadata": {
  "kernelspec": {
   "name": "python385jvsc74a57bd0db7cb6f8b99581485a229201158c5b3d87043825d76fdd729161e90706f71f5a",
   "display_name": "Python 3.8.5 64-bit ('.venv': venv)"
  },
  "language_info": {
   "codemirror_mode": {
    "name": "ipython",
    "version": 3
   },
   "file_extension": ".py",
   "mimetype": "text/x-python",
   "name": "python",
   "nbconvert_exporter": "python",
   "pygments_lexer": "ipython3",
   "version": "3.8.5"
  }
 },
 "nbformat": 4,
 "nbformat_minor": 5
}
